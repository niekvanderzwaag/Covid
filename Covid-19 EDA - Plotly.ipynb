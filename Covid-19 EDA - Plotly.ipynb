{
 "cells": [
  {
   "cell_type": "markdown",
   "id": "cb7c4375",
   "metadata": {},
   "source": [
    "Covid 19 - EDA"
   ]
  },
  {
   "cell_type": "markdown",
   "id": "49cb587a",
   "metadata": {},
   "source": [
    "Exploration of Covid-19 datasets through Plotly (or, actually: Exploration of Plotly through a Covid-19 datasets).\n",
    "\n",
    "My goal here was to combine several datasets and explore the Covid-19 pandemic to learn a new tool I was unfamiliar with: Plotly. I explored various functionalities to create interactive visualizations through various graphs and maps. Though I'm not sure it would soon replace Tableau, it was interesting to explore its functionality.\n",
    "\n",
    "Dataset: https://github.com/laxmimerit/Covid-19-Preprocessed-Dataset/\n",
    "Inspiration: https://www.udemy.com/course/complete-data-visualization-in-python"
   ]
  },
  {
   "cell_type": "markdown",
   "id": "ae0a7f07",
   "metadata": {},
   "source": [
    "Imports"
   ]
  },
  {
   "cell_type": "code",
   "execution_count": null,
   "id": "b4536a25",
   "metadata": {},
   "outputs": [],
   "source": [
    "import plotly as py\n",
    "import plotly.express as px\n",
    "import plotly.graph_objects as go\n",
    "import plotly.figure_factory as ff\n",
    "from plotly.subplots import make_subplots\n",
    "py.offline.init_notebook_mode(connected=True)\n",
    "\n",
    "import folium\n",
    "import pandas as pd\n",
    "import numpy as np\n",
    "import matplotlib.pyplot as plt\n",
    "%matplotlib inline\n",
    "\n",
    "import math\n",
    "import random\n",
    "from datetime import timedelta\n",
    "import warnings\n",
    "warnings.filterwarnings('ignore')\n",
    "\n",
    "#color pallette\n",
    "cnf = '#393e46'\n",
    "dth = '#ff2e63'\n",
    "rec = '#21bf73'\n",
    "act = '#fe9801'"
   ]
  },
  {
   "cell_type": "code",
   "execution_count": null,
   "id": "2e5537e0",
   "metadata": {},
   "outputs": [],
   "source": [
    "Datasets"
   ]
  },
  {
   "cell_type": "code",
   "execution_count": null,
   "id": "ad5ed8d7",
   "metadata": {},
   "outputs": [],
   "source": [
    "df = pd.read_csv('covid_19_data_cleaned.csv', parse_dates=['Date'])\n",
    "country_daywise = pd.read_csv('country_daywise.csv', parse_dates=['Date'])\n",
    "countrywise = pd.read_csv('countrywise.csv')\n",
    "daywise = pd.read_csv('daywise.csv', parse_dates=['Date'])"
   ]
  },
  {
   "cell_type": "code",
   "execution_count": null,
   "id": "1fd8d28d",
   "metadata": {
    "scrolled": true
   },
   "outputs": [],
   "source": [
    "df.head()"
   ]
  },
  {
   "cell_type": "code",
   "execution_count": null,
   "id": "337b4030",
   "metadata": {},
   "outputs": [],
   "source": [
    "df['Province/State'] = df['Province/State'].fillna('')"
   ]
  },
  {
   "cell_type": "code",
   "execution_count": null,
   "id": "a44d8c36",
   "metadata": {},
   "outputs": [],
   "source": [
    "df.head()"
   ]
  },
  {
   "cell_type": "code",
   "execution_count": null,
   "id": "d9b6c841",
   "metadata": {},
   "outputs": [],
   "source": [
    "df.isnull().sum()"
   ]
  },
  {
   "cell_type": "code",
   "execution_count": null,
   "id": "51866105",
   "metadata": {},
   "outputs": [],
   "source": [
    "df.info()"
   ]
  },
  {
   "cell_type": "code",
   "execution_count": null,
   "id": "44a72fbf",
   "metadata": {},
   "outputs": [],
   "source": [
    "df.head()"
   ]
  },
  {
   "cell_type": "markdown",
   "id": "8bad9eb5",
   "metadata": {},
   "source": [
    "Grouping to create 3 districtive DataFrames"
   ]
  },
  {
   "cell_type": "code",
   "execution_count": null,
   "id": "74d5e8ea",
   "metadata": {},
   "outputs": [],
   "source": [
    "confirmed = df.groupby('Date').sum()['Confirmed'].reset_index()\n",
    "recovered = df.groupby('Date').sum()['Recovered'].reset_index()\n",
    "deaths = df.groupby('Date').sum()['Deaths'].reset_index()"
   ]
  },
  {
   "cell_type": "code",
   "execution_count": null,
   "id": "91056dc3",
   "metadata": {},
   "outputs": [],
   "source": [
    "df.info()"
   ]
  },
  {
   "cell_type": "markdown",
   "id": "d69f286a",
   "metadata": {},
   "source": [
    "Let's explore our dataset using plotly, starting with total confirmed cases over time."
   ]
  },
  {
   "cell_type": "code",
   "execution_count": null,
   "id": "4e249ad0",
   "metadata": {},
   "outputs": [],
   "source": [
    "fig = go.Figure()\n",
    "fig.add_trace(go.Scatter(x = confirmed['Date'], y= confirmed['Confirmed'], name='Confirmed', line=dict(color = 'Orange', width = 2)))\n",
    "fig.add_trace(go.Scatter(x = recovered['Date'], y= recovered['Recovered'], name='Recovered', line=dict(color = 'Blue', width = 2)))\n",
    "fig.add_trace(go.Scatter(x = deaths['Date'], y= deaths['Deaths'], name='Deaths', line=dict(color = 'Red', width = 2)))\n",
    "fig.update_layout(title='Covid-19 Cases Worldwide', xaxis_tickfont_size = 14, yaxis = dict(title='Number of Cases'))\n",
    "fig.show()"
   ]
  },
  {
   "cell_type": "markdown",
   "id": "2febfaa4",
   "metadata": {},
   "source": [
    "Observations:\n",
    "- Recovered data stopped being reported after August 4th 2021\n",
    "- We currently have more than a quarter billion confirmed cases\n",
    "- Deaths seem to not have dramatically increased, hopefully due to our ability to manage Covid at this stage\n",
    "\n",
    "On further inspection it is clear that the discontinuation of Recovered data by CSSE at Johns Hopkins University is due their assesment of the metric being unreliable globally. See also:\n",
    "https://github.com/CSSEGISandData/COVID-19/issues/4465"
   ]
  },
  {
   "cell_type": "code",
   "execution_count": null,
   "id": "517f7829",
   "metadata": {},
   "outputs": [],
   "source": [
    "df['Date'] = df['Date'].astype(str) #converting datetime to string for plotly.express"
   ]
  },
  {
   "cell_type": "code",
   "execution_count": null,
   "id": "601ce4cd",
   "metadata": {},
   "outputs": [],
   "source": [
    "temp = df.groupby('Date')['Deaths', 'Recovered', 'Active'].sum().reset_index()\n",
    "temp = temp.melt(id_vars = 'Date', value_vars= ['Active', 'Recovered', 'Deaths'])\n",
    "fig = px.area(temp, x='Date', y='value', color='variable', height = 600, title = 'Covid-19 Cases Worldwide (rangeslider)', color_discrete_sequence=[act,rec,dth])\n",
    "fig.update_layout(xaxis_rangeslider_visible=True)\n",
    "fig.show()"
   ]
  },
  {
   "cell_type": "markdown",
   "id": "478d2dd0",
   "metadata": {},
   "source": [
    "Confirmed Cases & Deaths Worldwide - Line"
   ]
  },
  {
   "cell_type": "code",
   "execution_count": null,
   "id": "f7a4adb4",
   "metadata": {
    "scrolled": true
   },
   "outputs": [],
   "source": [
    "fig = px.line(country_daywise, x = 'Date', y = 'Confirmed', color = 'Country', height = 600,\n",
    "             title='Confirmed', color_discrete_sequence = px.colors.sequential.GnBu_r)\n",
    "fig.update_layout(showlegend=False)\n",
    "fig.show()\n",
    "\n",
    "fig = px.line(country_daywise, x = 'Date', y = 'Deaths', color = 'Country', height = 600,\n",
    "             title='Deaths', color_discrete_sequence = px.colors.sequential.Redor_r)\n",
    "fig.update_layout(showlegend=False)\n",
    "fig.show()"
   ]
  },
  {
   "cell_type": "markdown",
   "id": "a93912a5",
   "metadata": {},
   "source": [
    "Observations:\n",
    "- US, India and Brazil have many millions of confirmed cases (offset vs. population?)\n",
    "- Graphs very hard to read, interactivity offers little to help this fact\n",
    "- Local trends hard to estimate"
   ]
  },
  {
   "cell_type": "markdown",
   "id": "c56814e0",
   "metadata": {},
   "source": [
    "Confirmed Cases Worldwide - Stacked"
   ]
  },
  {
   "cell_type": "code",
   "execution_count": null,
   "id": "1e8f31da",
   "metadata": {},
   "outputs": [],
   "source": [
    "fig = px.bar(country_daywise, x = 'Date', y = 'Confirmed', color = 'Country', height = 600,\n",
    "            title='Confirmed', color_discrete_sequence=px.colors.sequential.GnBu_r)\n",
    "fig.update_layout(showlegend = False)\n",
    "fig.show()"
   ]
  },
  {
   "cell_type": "markdown",
   "id": "2b64f278",
   "metadata": {},
   "source": [
    "Observations:\n",
    "- Beautiful visual\n",
    "- Interactivity offers more to explore, but static would've worked just fine\n",
    "- Due to large number of countries the abstraction of colors helps (it's about reading the difference vs. neighbor, not each individual country vs. whole)"
   ]
  },
  {
   "cell_type": "markdown",
   "id": "5d66ad7e",
   "metadata": {},
   "source": [
    "Confirmed Cases per Country"
   ]
  },
  {
   "cell_type": "code",
   "execution_count": null,
   "id": "75d9f2e1",
   "metadata": {},
   "outputs": [],
   "source": [
    "gt_1m = country_daywise[country_daywise['Confirmed']>1000000]['Country'].unique()\n",
    "\n",
    "temp = country_daywise.groupby(['Country', 'Date'])['Confirmed'].sum().reset_index()\n",
    "temp = temp[temp['Country'].isin(gt_1m)]\n",
    "\n",
    "countries = temp['Country'].unique()\n",
    "\n",
    "ncols = 3\n",
    "nrows = math.ceil(len(countries)/ncols)\n",
    "\n",
    "fig = make_subplots(rows=nrows, cols = ncols, shared_xaxes= False, subplot_titles=countries)\n",
    "\n",
    "for ind, country in enumerate(countries):\n",
    "    row = int((ind/ncols)+1)\n",
    "    col = int((ind%ncols)+1)\n",
    "    fig.add_trace(go.Bar(x = temp['Date'], y = temp.loc[temp['Country']==country, 'Confirmed'], name = country), row = row, col = col)\n",
    "    \n",
    "fig.update_layout(height=4000, title_text = 'Confirmed Cases in Countries with over 1M Cases per Day')\n",
    "fig.update_layout(showlegend = False)\n",
    "fig.show()"
   ]
  },
  {
   "cell_type": "markdown",
   "id": "42ac6944",
   "metadata": {},
   "source": [
    "Observations:\n",
    "- Seperating each country makes it possible to read trends\n",
    "- Different Y-axes make reading absolute values challenging\n",
    "- Interactivity offers little value"
   ]
  },
  {
   "cell_type": "markdown",
   "id": "103ca542",
   "metadata": {},
   "source": [
    "Various Metrics Top 10"
   ]
  },
  {
   "cell_type": "code",
   "execution_count": null,
   "id": "1c6678d9",
   "metadata": {},
   "outputs": [],
   "source": [
    "top  = 10\n",
    "\n",
    "fig_cc = px.bar(countrywise.sort_values('Confirmed').tail(top), x = 'Confirmed', y = 'Country',\n",
    "              text = 'Confirmed', orientation='h', color_discrete_sequence=[act])\n",
    "fig_dr = px.bar(countrywise.sort_values('Deaths').tail(top), x = 'Deaths', y = 'Country',\n",
    "              text = 'Deaths', orientation='h', color_discrete_sequence=[dth])\n",
    "\n",
    "fig_nc = px.bar(countrywise.sort_values('New Cases').tail(top), x = 'New Cases', y = 'Country',\n",
    "              text = 'New Cases', orientation='h', color_discrete_sequence=['#f04341'])\n",
    "temp = countrywise[countrywise['Population']>1000000] #temp value 1M\n",
    "fig_p = px.bar(temp.sort_values('Cases / Million People').tail(top), x = 'Cases / Million People', y = 'Country',\n",
    "              text = 'Cases / Million People', orientation='h', color_discrete_sequence=['#b40398'])\n",
    "\n",
    "\n",
    "\n",
    "fig_wc = px.bar(countrywise.sort_values('1 week change').tail(top), x = '1 week change', y = 'Country',\n",
    "              text = '1 week change', orientation='h', color_discrete_sequence=['#c04041'])\n",
    "temp = countrywise[countrywise['Confirmed']>100] #set threshold\n",
    "fig_wi = px.bar(temp.sort_values('1 week % increase').tail(top), x = '1 week % increase', y = 'Country',\n",
    "              text = '1 week % increase', orientation='h', color_discrete_sequence=['#b2327d'])\n",
    "\n",
    "\n",
    "fig = make_subplots(rows = 3, cols = 2, shared_xaxes=False, horizontal_spacing=0.2, vertical_spacing=.05,\n",
    "                   subplot_titles=('Confirmed Cases', 'Deaths Reported',\n",
    "                                   'New Cases', 'Cases / Million People',\n",
    "                                   '1 week change', '1 week % increase'))\n",
    "\n",
    "fig.add_trace(fig_cc['data'][0], row = 1, col = 1)\n",
    "fig.add_trace(fig_dr['data'][0], row = 1, col = 2)\n",
    "\n",
    "fig.add_trace(fig_nc['data'][0], row = 2, col = 1)\n",
    "fig.add_trace(fig_p['data'][0], row = 2, col = 2)\n",
    "\n",
    "fig.add_trace(fig_wc['data'][0], row = 3, col = 1)\n",
    "fig.add_trace(fig_wi['data'][0], row = 3, col = 2)\n",
    "\n",
    "fig.update_layout(height = 1500)\n",
    "fig.show()\n"
   ]
  },
  {
   "cell_type": "markdown",
   "id": "17715f91",
   "metadata": {},
   "source": [
    "Observations:\n",
    "- Clear and easy to read - useful\n",
    "- Interactivity offers nothing in these graphs - values suffice\n",
    "- US tops the charts in many metrics, but in cases per 1M it's the lowest (US is a big country). This is also apperent from the 1 week change graphs, where the US doesn't even show up in % increase, though it has the highest total new cases.\n",
    "- If your country's name end in 'ia', you'll have a lot of cases per 1M (obvious correlation)"
   ]
  },
  {
   "cell_type": "markdown",
   "id": "9f966e9d",
   "metadata": {},
   "source": [
    "Mapping"
   ]
  },
  {
   "cell_type": "code",
   "execution_count": null,
   "id": "acf2d567",
   "metadata": {},
   "outputs": [],
   "source": [
    "fig = px.choropleth(country_daywise, locations= 'Country', locationmode='country names', color = np.log(country_daywise['Confirmed']),\n",
    "                   hover_name = 'Country', animation_frame=country_daywise['Date'].dt.strftime('%Y-%m-%d'),\n",
    "                   title='Cases over time', color_continuous_scale=px.colors.sequential.GnBu)\n",
    "\n",
    "fig.update(layout_coloraxis_showscale = True)\n",
    "fig.show()"
   ]
  },
  {
   "cell_type": "raw",
   "id": "a56511ca",
   "metadata": {},
   "source": [
    "Observations:\n",
    "- Great map for understanding trends over time\n",
    "- Range slider a bit sluggish, animation by day not dramatic enough"
   ]
  },
  {
   "cell_type": "markdown",
   "id": "518541a7",
   "metadata": {},
   "source": [
    "Scatterplot"
   ]
  },
  {
   "cell_type": "code",
   "execution_count": null,
   "id": "fa83ef17",
   "metadata": {
    "scrolled": true
   },
   "outputs": [],
   "source": [
    "top = 50\n",
    "fig = px.scatter(countrywise.sort_values('Deaths', ascending = False).head(top), \n",
    "                x = 'Confirmed', y = 'Deaths', color = 'Country', size = 'Confirmed', height = 600,\n",
    "                text = 'Country', size_max=50, log_x = True, log_y = True,\n",
    "                title='Deaths vs Confirmed Cases (Cases are on log10 scale)')\n",
    "\n",
    "fig.update_traces(textposition = 'top center')\n",
    "fig.update_layout(showlegend = False, font_size = 8)\n",
    "fig.show()"
   ]
  },
  {
   "cell_type": "markdown",
   "id": "f9a3a8b6",
   "metadata": {},
   "source": [
    "Observations:\n",
    "- Correlation between confirmed and deaths\n",
    "- Countries towards bottom-right effecient at dealing with covid (Austria, Sweden, Morroco)\n",
    "- Countries top-left not so much (Mexico, Peru, Indonesia)\n",
    "- Would be interesting to offset with population sizes/healthcare\n",
    "- Interactivity adds value to visual"
   ]
  },
  {
   "cell_type": "markdown",
   "id": "72c2ae8b",
   "metadata": {},
   "source": [
    "Conclusion\n",
    "\n",
    "The usecase for plotly is not immediately obvious to me, when more powerful and userfriendly visualization tools such as Tableau exist. Its direct integration into the Python ecosystem is great, but ultimately not a redeeming factor."
   ]
  }
 ],
 "metadata": {
  "kernelspec": {
   "display_name": "Python 3",
   "language": "python",
   "name": "python3"
  },
  "language_info": {
   "codemirror_mode": {
    "name": "ipython",
    "version": 3
   },
   "file_extension": ".py",
   "mimetype": "text/x-python",
   "name": "python",
   "nbconvert_exporter": "python",
   "pygments_lexer": "ipython3",
   "version": "3.8.8"
  }
 },
 "nbformat": 4,
 "nbformat_minor": 5
}
